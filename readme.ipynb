{
 "cells": [
  {
   "cell_type": "raw",
   "id": "0520c8fa",
   "metadata": {
    "vscode": {
     "languageId": "raw"
    }
   },
   "source": [
    "rasa shell nlu            #run an interactive shell\n",
    "rasa data validate        #whether intentation is correct\n",
    "rasa shell --debug        #"
   ]
  }
 ],
 "metadata": {
  "language_info": {
   "name": "python"
  }
 },
 "nbformat": 4,
 "nbformat_minor": 5
}
